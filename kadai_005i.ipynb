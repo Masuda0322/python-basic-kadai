{
  "nbformat": 4,
  "nbformat_minor": 0,
  "metadata": {
    "colab": {
      "provenance": []
    },
    "kernelspec": {
      "name": "python3",
      "display_name": "Python 3"
    },
    "language_info": {
      "name": "python"
    }
  },
  "cells": [
    {
      "cell_type": "code",
      "execution_count": 1,
      "metadata": {
        "colab": {
          "base_uri": "https://localhost:8080/"
        },
        "id": "M18xi_sV-Rko",
        "outputId": "473d4753-9f1b-48a6-d069-6a62896ca55c"
      },
      "outputs": [
        {
          "output_type": "stream",
          "name": "stdout",
          "text": [
            "75.0 cm²\n"
          ]
        }
      ],
      "source": [
        "upper = 10\n",
        "lower = 20\n",
        "hight = 5\n",
        "\n",
        "# 公式；面積 = (上底+下底)×高さ÷2\n",
        "area = (upper + lower) * hight / 2\n",
        "\n",
        "print(area,\"cm²\")\n",
        "\n",
        "\n"
      ]
    }
  ]
}