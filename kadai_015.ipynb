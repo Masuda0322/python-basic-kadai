{
  "nbformat": 4,
  "nbformat_minor": 0,
  "metadata": {
    "colab": {
      "provenance": []
    },
    "kernelspec": {
      "name": "python3",
      "display_name": "Python 3"
    },
    "language_info": {
      "name": "python"
    }
  },
  "cells": [
    {
      "cell_type": "code",
      "execution_count": 17,
      "metadata": {
        "colab": {
          "base_uri": "https://localhost:8080/"
        },
        "id": "gpbf-qAYvLRr",
        "outputId": "c1b2834d-7919-4edc-8c13-92f26a8fdfc3"
      },
      "outputs": [
        {
          "output_type": "stream",
          "name": "stdout",
          "text": [
            "名前 さむらい\n",
            "年齢 10 歳\n"
          ]
        }
      ],
      "source": [
        "class Human:\n",
        "    def __init__(self, name, age):\n",
        "        self.name = name\n",
        "        self.age = age\n",
        "\n",
        "    # Define the printinfo method within the Human class\n",
        "    def printinfo(self):\n",
        "        print(\"名前\", self.name)\n",
        "        print(\"年齢\", self.age, \"歳\")\n",
        "\n",
        "# Create an instance of the Human class\n",
        "human = Human(\"さむらい\", 10)\n",
        "\n",
        "# Call the printinfo method on the human instance\n",
        "human.printinfo()"
      ]
    }
  ]
}