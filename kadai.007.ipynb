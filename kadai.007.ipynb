{
  "nbformat": 4,
  "nbformat_minor": 0,
  "metadata": {
    "colab": {
      "provenance": []
    },
    "kernelspec": {
      "name": "python3",
      "display_name": "Python 3"
    },
    "language_info": {
      "name": "python"
    }
  },
  "cells": [
    {
      "cell_type": "code",
      "execution_count": 16,
      "metadata": {
        "colab": {
          "base_uri": "https://localhost:8080/"
        },
        "id": "HQ-VTAR5mMXq",
        "outputId": "e27665c7-9246-415b-c28b-2a7417c74878"
      },
      "outputs": [
        {
          "output_type": "stream",
          "name": "stdout",
          "text": [
            "月曜日は晴れです\n",
            "晴れ\n"
          ]
        }
      ],
      "source": [
        "#課題：リスト/ディクショナリを使いこなそう(リスト：array)\n",
        "array = [\"月曜日は晴れです\",\"火曜日は雨です\",\"\t水曜日は晴れです\",\"木曜日は晴れです\",\"金曜日は曇りです\",\"土曜日は曇りのち雨です\",\"\t日曜日は雷雨です\"]\n",
        "print(array[0])\n",
        "\n",
        "#課題；ディショナリー\n",
        "dictionary = {\"mon\": \"晴れ\", \"tue\": \"雨\", \"wed\": \"晴れ\", \"thu\": \"晴れ\", \"fri\": \"曇り\", \"sat\": \"曇りのち雨\", \"sun\": \"雷雨\"}\n",
        "print(dictionary[\"mon\"])"
      ]
    }
  ]
}