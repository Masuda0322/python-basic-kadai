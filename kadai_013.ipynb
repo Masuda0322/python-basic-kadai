{
  "nbformat": 4,
  "nbformat_minor": 0,
  "metadata": {
    "colab": {
      "provenance": []
    },
    "kernelspec": {
      "name": "python3",
      "display_name": "Python 3"
    },
    "language_info": {
      "name": "python"
    }
  },
  "cells": [
    {
      "cell_type": "code",
      "execution_count": 23,
      "metadata": {
        "colab": {
          "base_uri": "https://localhost:8080/"
        },
        "id": "4G1PfIFxeVdO",
        "outputId": "380d2408-ab99-463e-aca8-b34c970cff64"
      },
      "outputs": [
        {
          "output_type": "execute_result",
          "data": {
            "text/plain": [
              "110.0"
            ]
          },
          "metadata": {},
          "execution_count": 23
        }
      ],
      "source": [
        "def total_price(price,tax):\n",
        "  tax = price * 0.1\n",
        "  total = price + tax\n",
        "  return total\n",
        "\n",
        "\n",
        "total_price(100,20)"
      ]
    }
  ]
}